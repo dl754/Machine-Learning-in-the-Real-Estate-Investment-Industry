{
 "cells": [
  {
   "attachments": {},
   "cell_type": "markdown",
   "metadata": {},
   "source": [
    "# Building A Real Estate Pricing Prediction Model using Neural Networks"
   ]
  },
  {
   "attachments": {},
   "cell_type": "markdown",
   "metadata": {},
   "source": [
    "## Case Study:\n",
    "\n",
    "**iBuyer:** Zillow Offers\n",
    "\n",
    "**Usages:** Using Zestimate to buy houses that are undervalued and flip them to sell at higher prices\n",
    "\n",
    "**Result:** In 2021, Zillow wrote down over $500M of losses, an average of -$80k per house, due to houses they purchased at too high a price through the third and fourth quarters of this year.\n",
    "\n",
    "**Goals:** In this project, we are trying to conduct a case study that comes up with our predictions on Real Estate pricing prediction models using the Real Estate Private Equity Data from Preqin and applying some of the machine learning algorithms we learned, such as Classification and Regression Tree, Neural network and Random forest. \n",
    "\n",
    "Additionally, we are looking for why Zestimate has failed in serving the Zillow offers and finding potential opportunities to improve the model to achieve such applications in the financial market.\n",
    "\n",
    "**Outlines**\n",
    " 1. Examples of ML used by Zillow (Elise Donkor)\n",
    " 2. Demonstration of Zestimate using classification and regression trees\n",
    " 3. Demonstration of Zestimate using random forests\n",
    " 4. Demonstration of Zestimate using Neural Networks\n",
    " 5. Cross validation of different models\n"
   ]
  },
  {
   "cell_type": "code",
   "execution_count": null,
   "metadata": {},
   "outputs": [],
   "source": []
  }
 ],
 "metadata": {
  "kernelspec": {
   "display_name": "base",
   "language": "python",
   "name": "python3"
  },
  "language_info": {
   "codemirror_mode": {
    "name": "ipython",
    "version": 3
   },
   "file_extension": ".py",
   "mimetype": "text/x-python",
   "name": "python",
   "nbconvert_exporter": "python",
   "pygments_lexer": "ipython3",
   "version": "3.9.12"
  },
  "orig_nbformat": 4
 },
 "nbformat": 4,
 "nbformat_minor": 2
}
